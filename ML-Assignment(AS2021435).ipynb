{
 "cells": [
  {
   "cell_type": "markdown",
   "metadata": {},
   "source": [
    "AS2021435 - Tharunda De Silva"
   ]
  },
  {
   "cell_type": "markdown",
   "metadata": {},
   "source": [
    "**Importing Libraries**"
   ]
  },
  {
   "cell_type": "code",
   "execution_count": 30,
   "metadata": {},
   "outputs": [],
   "source": [
    "import pandas as pd\n",
    "import numpy as np\n",
    "from sklearn.neighbors import KNeighborsClassifier\n",
    "from sklearn.model_selection import train_test_split \n",
    "from sklearn.metrics import accuracy_score\n",
    "\n"
   ]
  },
  {
   "cell_type": "markdown",
   "metadata": {},
   "source": [
    "**Importing Data Set**"
   ]
  },
  {
   "cell_type": "code",
   "execution_count": null,
   "metadata": {},
   "outputs": [],
   "source": [
    "data = pd.read_excel(\"./data3.xlsx\")\n",
    "data.insert(2,'class',0)\n",
    "data.loc[0:100,'class']='c1'\n",
    "data.loc[100:200,'class']='c2'"
   ]
  },
  {
   "cell_type": "markdown",
   "metadata": {},
   "source": [
    "**Checking Data**"
   ]
  },
  {
   "cell_type": "code",
   "execution_count": 32,
   "metadata": {},
   "outputs": [
    {
     "name": "stdout",
     "output_type": "stream",
     "text": [
      "            A         B class\n",
      "0   -1.203829 -2.099227    c1\n",
      "1   -0.299217 -3.208061    c1\n",
      "2   -0.409827 -2.093781    c1\n",
      "3   -1.858703 -1.502237    c1\n",
      "4   -1.629928 -1.268671    c1\n",
      "..        ...       ...   ...\n",
      "215 -0.491319 -0.199948     0\n",
      "216  1.336830  1.483775     0\n",
      "217  0.974509  2.438590     0\n",
      "218  1.752166  1.892155     0\n",
      "219 -0.392623  0.126900     0\n",
      "\n",
      "[220 rows x 3 columns]\n"
     ]
    }
   ],
   "source": [
    "print(data)"
   ]
  },
  {
   "cell_type": "markdown",
   "metadata": {},
   "source": [
    "**Defining Train and Test Data**"
   ]
  },
  {
   "cell_type": "code",
   "execution_count": 33,
   "metadata": {},
   "outputs": [],
   "source": [
    "xData = data.iloc[:200, :2] \n",
    "yData = data.iloc[:200, 2 ]\n",
    "\n",
    "xTrain,xTest,yTrain,yTest = train_test_split(xData,yData,train_size=0.8,test_size=0.2,random_state=1)"
   ]
  },
  {
   "cell_type": "markdown",
   "metadata": {},
   "source": [
    "************************************************************************************************************************************************************************************************************************************"
   ]
  },
  {
   "cell_type": "markdown",
   "metadata": {},
   "source": [
    "**(a) Classify the last 20 points using k=1 and k=3 nearest neighbor rules an Euclidean distance measure.**"
   ]
  },
  {
   "cell_type": "markdown",
   "metadata": {},
   "source": [
    "*k=1*"
   ]
  },
  {
   "cell_type": "code",
   "execution_count": 34,
   "metadata": {},
   "outputs": [
    {
     "data": {
      "text/plain": [
       "array(['c1', 'c1', 'c1', 'c1', 'c1', 'c1', 'c1', 'c1', 'c1', 'c1', 'c2',\n",
       "       'c2', 'c2', 'c2', 'c2', 'c2', 'c2', 'c2', 'c2', 'c2'], dtype=object)"
      ]
     },
     "execution_count": 34,
     "metadata": {},
     "output_type": "execute_result"
    }
   ],
   "source": [
    "knn1_Eucli = KNeighborsClassifier(n_neighbors=1,metric='euclidean')\n",
    "knn1_Eucli.fit(xTrain,yTrain)\n",
    "knn1_Eucli.predict(data.iloc[200:,:2])"
   ]
  },
  {
   "cell_type": "markdown",
   "metadata": {},
   "source": [
    "*k=3*"
   ]
  },
  {
   "cell_type": "code",
   "execution_count": 35,
   "metadata": {},
   "outputs": [
    {
     "data": {
      "text/plain": [
       "array(['c1', 'c1', 'c1', 'c1', 'c1', 'c1', 'c1', 'c1', 'c1', 'c1', 'c2',\n",
       "       'c2', 'c2', 'c2', 'c2', 'c2', 'c2', 'c2', 'c2', 'c2'], dtype=object)"
      ]
     },
     "execution_count": 35,
     "metadata": {},
     "output_type": "execute_result"
    }
   ],
   "source": [
    "knn3_Eucli = KNeighborsClassifier(n_neighbors=3,metric='euclidean')\n",
    "knn3_Eucli.fit(xTrain,yTrain)\n",
    "knn3_Eucli.predict(data.iloc[200:,:2])"
   ]
  },
  {
   "cell_type": "markdown",
   "metadata": {},
   "source": [
    "************************************************************************************************************************************************************************************************************************************"
   ]
  },
  {
   "cell_type": "markdown",
   "metadata": {},
   "source": [
    "**(b) Which of the values of k seem to give more accurate results? (Calculate the\n",
    "accuracy for each K value)**\n"
   ]
  },
  {
   "cell_type": "markdown",
   "metadata": {},
   "source": [
    "*K=1*"
   ]
  },
  {
   "cell_type": "code",
   "execution_count": 36,
   "metadata": {},
   "outputs": [
    {
     "name": "stdout",
     "output_type": "stream",
     "text": [
      "Accurancy = 0.85\n"
     ]
    }
   ],
   "source": [
    "knn1_pred = knn1_Eucli.predict(xTest)\n",
    "accuracy = accuracy_score(yTest,knn1_pred)\n",
    "print(\"Accurancy =\", accuracy)"
   ]
  },
  {
   "cell_type": "markdown",
   "metadata": {},
   "source": [
    "*K=3*"
   ]
  },
  {
   "cell_type": "code",
   "execution_count": 37,
   "metadata": {},
   "outputs": [
    {
     "name": "stdout",
     "output_type": "stream",
     "text": [
      "Accurancy = 0.85\n"
     ]
    }
   ],
   "source": [
    "knn3_pred = knn3_Eucli.predict(xTest)\n",
    "accuracy = accuracy_score(yTest,knn1_pred)\n",
    "print(\"Accurancy =\", accuracy)"
   ]
  },
  {
   "cell_type": "markdown",
   "metadata": {},
   "source": [
    "*Answer :*"
   ]
  },
  {
   "cell_type": "markdown",
   "metadata": {},
   "source": [
    "When k=1 and k=2 the accuracy is same."
   ]
  },
  {
   "cell_type": "markdown",
   "metadata": {},
   "source": [
    "************************************************************************************************************************************************************************************************************************************"
   ]
  },
  {
   "cell_type": "markdown",
   "metadata": {},
   "source": [
    "**(c) Repeat the classification using Manhattan, Cosine and Chebyshev distances\n",
    "as proximity measure.**"
   ]
  },
  {
   "cell_type": "markdown",
   "metadata": {},
   "source": [
    "**K=1**"
   ]
  },
  {
   "cell_type": "markdown",
   "metadata": {},
   "source": [
    "*Manhattan Distance*"
   ]
  },
  {
   "cell_type": "code",
   "execution_count": 21,
   "metadata": {},
   "outputs": [
    {
     "data": {
      "text/plain": [
       "array(['c1', 'c1', 'c1', 'c1', 'c1', 'c1', 'c1', 'c1', 'c1', 'c1', 'c2',\n",
       "       'c2', 'c2', 'c2', 'c2', 'c2', 'c2', 'c2', 'c2', 'c2'], dtype=object)"
      ]
     },
     "execution_count": 21,
     "metadata": {},
     "output_type": "execute_result"
    }
   ],
   "source": [
    "knn1_Man = KNeighborsClassifier(n_neighbors=1,metric='manhattan')\n",
    "knn1_Man.fit(xTrain,yTrain)\n",
    "knn1_Man.predict(data.iloc[200:,:2])"
   ]
  },
  {
   "cell_type": "markdown",
   "metadata": {},
   "source": [
    "*Cosine Distance*"
   ]
  },
  {
   "cell_type": "code",
   "execution_count": 22,
   "metadata": {},
   "outputs": [
    {
     "data": {
      "text/plain": [
       "array(['c1', 'c1', 'c1', 'c1', 'c1', 'c2', 'c1', 'c1', 'c1', 'c2', 'c1',\n",
       "       'c2', 'c2', 'c2', 'c2', 'c1', 'c2', 'c2', 'c2', 'c2'], dtype=object)"
      ]
     },
     "execution_count": 22,
     "metadata": {},
     "output_type": "execute_result"
    }
   ],
   "source": [
    "knn1_Cos = KNeighborsClassifier(n_neighbors=1,metric='cosine')\n",
    "knn1_Cos.fit(xTrain,yTrain)\n",
    "knn1_Cos.predict(data.iloc[200:,:2])"
   ]
  },
  {
   "cell_type": "markdown",
   "metadata": {},
   "source": [
    "*Chebyshev Distance*"
   ]
  },
  {
   "cell_type": "code",
   "execution_count": 23,
   "metadata": {},
   "outputs": [
    {
     "data": {
      "text/plain": [
       "array(['c1', 'c1', 'c1', 'c1', 'c1', 'c1', 'c1', 'c1', 'c1', 'c1', 'c2',\n",
       "       'c2', 'c2', 'c2', 'c2', 'c2', 'c2', 'c2', 'c2', 'c2'], dtype=object)"
      ]
     },
     "execution_count": 23,
     "metadata": {},
     "output_type": "execute_result"
    }
   ],
   "source": [
    "knn1_Cheb = KNeighborsClassifier(n_neighbors=1,metric='chebyshev')\n",
    "knn1_Cheb .fit(xTrain,yTrain)\n",
    "knn1_Cheb .predict(data.iloc[200:,:2])"
   ]
  },
  {
   "cell_type": "markdown",
   "metadata": {},
   "source": [
    "**K=2**"
   ]
  },
  {
   "cell_type": "markdown",
   "metadata": {},
   "source": [
    "*Manhattan Distance*"
   ]
  },
  {
   "cell_type": "code",
   "execution_count": 24,
   "metadata": {},
   "outputs": [
    {
     "data": {
      "text/plain": [
       "array(['c1', 'c1', 'c1', 'c1', 'c1', 'c1', 'c1', 'c1', 'c1', 'c1', 'c2',\n",
       "       'c2', 'c2', 'c2', 'c2', 'c2', 'c2', 'c2', 'c2', 'c2'], dtype=object)"
      ]
     },
     "execution_count": 24,
     "metadata": {},
     "output_type": "execute_result"
    }
   ],
   "source": [
    "knn3_Man = KNeighborsClassifier(n_neighbors=3,metric='manhattan')\n",
    "knn3_Man.fit(xTrain,yTrain)\n",
    "knn3_Man.predict(data.iloc[200:,:2])"
   ]
  },
  {
   "cell_type": "markdown",
   "metadata": {},
   "source": [
    "*Cosine Distance*"
   ]
  },
  {
   "cell_type": "code",
   "execution_count": 25,
   "metadata": {},
   "outputs": [
    {
     "data": {
      "text/plain": [
       "array(['c1', 'c1', 'c1', 'c1', 'c1', 'c2', 'c1', 'c1', 'c1', 'c1', 'c1',\n",
       "       'c2', 'c2', 'c2', 'c2', 'c1', 'c2', 'c2', 'c2', 'c1'], dtype=object)"
      ]
     },
     "execution_count": 25,
     "metadata": {},
     "output_type": "execute_result"
    }
   ],
   "source": [
    "knn3_Cos = KNeighborsClassifier(n_neighbors=3,metric='cosine')\n",
    "knn3_Cos.fit(xTrain,yTrain)\n",
    "knn3_Cos.predict(data.iloc[200:,:2])"
   ]
  },
  {
   "cell_type": "markdown",
   "metadata": {},
   "source": [
    "*Chebyshev Distance*"
   ]
  },
  {
   "cell_type": "code",
   "execution_count": 26,
   "metadata": {},
   "outputs": [
    {
     "data": {
      "text/plain": [
       "array(['c1', 'c1', 'c1', 'c1', 'c1', 'c1', 'c1', 'c1', 'c1', 'c1', 'c2',\n",
       "       'c2', 'c2', 'c2', 'c2', 'c2', 'c2', 'c2', 'c2', 'c2'], dtype=object)"
      ]
     },
     "execution_count": 26,
     "metadata": {},
     "output_type": "execute_result"
    }
   ],
   "source": [
    "knn3_Cheb = KNeighborsClassifier(n_neighbors=3,metric='chebyshev')\n",
    "knn3_Cheb.fit(xTrain,yTrain)\n",
    "knn3_Cheb.predict(data.iloc[200:,:2])"
   ]
  },
  {
   "cell_type": "markdown",
   "metadata": {},
   "source": [
    "************************************************************************************************************************************************************************************************************************************"
   ]
  },
  {
   "cell_type": "markdown",
   "metadata": {},
   "source": [
    "**(d) Is there a measure that is the most suitable for classifying the points into\n",
    "classes C1 and C2. (Calculate the accuracy for each measure with selected\n",
    "K value)**\n"
   ]
  },
  {
   "cell_type": "markdown",
   "metadata": {},
   "source": [
    "*K=1*"
   ]
  },
  {
   "cell_type": "code",
   "execution_count": 27,
   "metadata": {},
   "outputs": [
    {
     "name": "stdout",
     "output_type": "stream",
     "text": [
      "Accurancy-euclidean = 0.85\n",
      "Accurancy-manhattan = 0.85\n",
      "Accurancy-cosine    = 0.9\n",
      "Accurancy-chebyshev = 0.875\n"
     ]
    }
   ],
   "source": [
    "#euclidean\n",
    "\n",
    "knn1_pred_euc = knn1_Eucli.predict(xTest)\n",
    "accuracy_euc = accuracy_score(yTest,knn1_pred_euc)\n",
    "print(\"Accurancy-euclidean =\", accuracy_euc)\n",
    "\n",
    "#manhattan\n",
    "\n",
    "knn1_pred_man = knn1_Man.predict(xTest)\n",
    "accuracy_man = accuracy_score(yTest,knn1_pred_man)\n",
    "print(\"Accurancy-manhattan =\", accuracy_man)\n",
    "\n",
    "#cosine\n",
    "\n",
    "knn1_pred_cos = knn1_Cos.predict(xTest)\n",
    "accuracy_cos = accuracy_score(yTest,knn1_pred_cos)\n",
    "print(\"Accurancy-cosine    =\", accuracy_cos)\n",
    "\n",
    "#chebyshev\n",
    "\n",
    "knn1_pred_cheb = knn1_Cheb.predict(xTest)\n",
    "accuracy_cheb = accuracy_score(yTest,knn1_pred_cheb)\n",
    "print(\"Accurancy-chebyshev =\", accuracy_cheb)\n",
    "\n",
    "\n",
    "\n",
    "\n",
    "\n"
   ]
  },
  {
   "cell_type": "markdown",
   "metadata": {},
   "source": [
    "**Conclution-**"
   ]
  },
  {
   "cell_type": "markdown",
   "metadata": {},
   "source": [
    "By observing the geerated accuracy values we can conclude that cosine metheod is the most suitable method."
   ]
  },
  {
   "cell_type": "markdown",
   "metadata": {},
   "source": [
    "*K=3*"
   ]
  },
  {
   "cell_type": "code",
   "execution_count": 28,
   "metadata": {},
   "outputs": [
    {
     "name": "stdout",
     "output_type": "stream",
     "text": [
      "Accurancy-euclidean = 0.95\n",
      "Accurancy-manhattan = 0.85\n",
      "Accurancy-cosine    = 0.925\n",
      "Accurancy-chebyshev = 0.9\n"
     ]
    }
   ],
   "source": [
    "#euclidean\n",
    "\n",
    "knn3_pred_euc = knn3_Eucli.predict(xTest)\n",
    "accuracy_euc = accuracy_score(yTest,knn3_pred_euc)\n",
    "print(\"Accurancy-euclidean =\", accuracy_euc)\n",
    "\n",
    "#manhattan\n",
    "\n",
    "knn3_pred_man = knn1_Man.predict(xTest)\n",
    "accuracy_man = accuracy_score(yTest,knn3_pred_man)\n",
    "print(\"Accurancy-manhattan =\", accuracy_man)\n",
    "\n",
    "#cosine\n",
    "\n",
    "knn3_pred_cos = knn3_Cos.predict(xTest)\n",
    "accuracy_cos = accuracy_score(yTest,knn3_pred_cos)\n",
    "print(\"Accurancy-cosine    =\", accuracy_cos)\n",
    "\n",
    "#chebyshev\n",
    "\n",
    "knn3_pred_cheb = knn3_Cheb.predict(xTest)\n",
    "accuracy_cheb = accuracy_score(yTest,knn3_pred_cheb)\n",
    "print(\"Accurancy-chebyshev =\", accuracy_cheb)"
   ]
  },
  {
   "cell_type": "markdown",
   "metadata": {},
   "source": [
    "**Conclution-**"
   ]
  },
  {
   "cell_type": "markdown",
   "metadata": {},
   "source": [
    "By observing the geerated accuracy values we can conclude that eucidian metheod is the most suitable method."
   ]
  },
  {
   "cell_type": "markdown",
   "metadata": {},
   "source": [
    "************************************************************************************************************************************************************************************************************************************"
   ]
  },
  {
   "cell_type": "markdown",
   "metadata": {},
   "source": [
    "**e) Repeat the problem with weighted K nearest neighbor algorithm for k=1 and k=3 and Euclidean distance measure. Compare your results with results of part (a).**"
   ]
  },
  {
   "cell_type": "markdown",
   "metadata": {},
   "source": [
    "*K=1*"
   ]
  },
  {
   "cell_type": "markdown",
   "metadata": {},
   "source": [
    "*  weight method : Uniform"
   ]
  },
  {
   "cell_type": "code",
   "execution_count": 41,
   "metadata": {},
   "outputs": [
    {
     "name": "stdout",
     "output_type": "stream",
     "text": [
      "['c1' 'c2' 'c1' 'c2' 'c2' 'c2' 'c1' 'c1' 'c2' 'c2' 'c2' 'c1' 'c2' 'c1'\n",
      " 'c2' 'c2' 'c2' 'c2' 'c2' 'c1' 'c1' 'c1' 'c1' 'c1' 'c1' 'c2' 'c1' 'c1'\n",
      " 'c2' 'c1' 'c2' 'c2' 'c2' 'c2' 'c2' 'c1' 'c1' 'c1' 'c1' 'c2']\n",
      "Accurancy (uniform) = 0.85\n"
     ]
    }
   ],
   "source": [
    "knn1_Uniform = KNeighborsClassifier(n_neighbors=1,metric='euclidean',weights='uniform')\n",
    "knn1_Uniform.fit(xTrain,yTrain)\n",
    "knn1_Uniform.predict(data.iloc[200:,:2])\n",
    "\n",
    "knn1Pred_uni=knn1_Uniform.predict(xTest)\n",
    "accuracy = accuracy_score(yTest,knn1Pred_uni)\n",
    "\n",
    "print(knn1Pred_uni)\n",
    "print(\"Accurancy (uniform) =\", accuracy)\n"
   ]
  },
  {
   "cell_type": "markdown",
   "metadata": {},
   "source": [
    "*  weight method : distance"
   ]
  },
  {
   "cell_type": "code",
   "execution_count": 42,
   "metadata": {},
   "outputs": [
    {
     "name": "stdout",
     "output_type": "stream",
     "text": [
      "['c1' 'c2' 'c1' 'c2' 'c2' 'c2' 'c1' 'c1' 'c2' 'c2' 'c2' 'c1' 'c2' 'c1'\n",
      " 'c2' 'c2' 'c2' 'c2' 'c2' 'c1' 'c1' 'c1' 'c1' 'c1' 'c1' 'c2' 'c1' 'c1'\n",
      " 'c2' 'c1' 'c2' 'c2' 'c2' 'c2' 'c2' 'c1' 'c1' 'c1' 'c1' 'c2']\n",
      "Accurancy (distance) = 0.85\n"
     ]
    }
   ],
   "source": [
    "knn1_Distance = KNeighborsClassifier(n_neighbors=1,metric='euclidean',weights='distance')\n",
    "knn1_Distance.fit(xTrain,yTrain)\n",
    "knn1_Uniform.predict(data.iloc[200:,:2])\n",
    "\n",
    "knn1Pred_distance = knn1_Distance.predict(xTest)\n",
    "accuracy = accuracy_score(yTest,knn1Pred_distance)\n",
    "\n",
    "print(knn1Pred_distance)\n",
    "print(\"Accurancy (distance) =\", accuracy)"
   ]
  },
  {
   "cell_type": "markdown",
   "metadata": {},
   "source": [
    "*K=3*"
   ]
  },
  {
   "cell_type": "markdown",
   "metadata": {},
   "source": [
    "*  weight method : Uniform"
   ]
  },
  {
   "cell_type": "code",
   "execution_count": 43,
   "metadata": {},
   "outputs": [
    {
     "name": "stdout",
     "output_type": "stream",
     "text": [
      "['c1' 'c1' 'c1' 'c2' 'c1' 'c2' 'c1' 'c1' 'c1' 'c2' 'c2' 'c1' 'c1' 'c1'\n",
      " 'c2' 'c2' 'c2' 'c1' 'c2' 'c1' 'c1' 'c1' 'c1' 'c1' 'c1' 'c2' 'c1' 'c1'\n",
      " 'c2' 'c1' 'c1' 'c2' 'c2' 'c2' 'c2' 'c1' 'c1' 'c1' 'c1' 'c2']\n",
      "Accurancy (uniform) = 0.85\n"
     ]
    }
   ],
   "source": [
    "knn3_Uniform = KNeighborsClassifier(n_neighbors=3,metric='euclidean',weights='uniform')\n",
    "knn3_Uniform.fit(xTrain,yTrain)\n",
    "knn3_Uniform.predict(data.iloc[200:,:2])\n",
    "\n",
    "knn3Pred_uni=knn3_Uniform.predict(xTest)\n",
    "accuracy = accuracy_score(yTest,knn1Pred_uni)\n",
    "\n",
    "print(knn3Pred_uni)\n",
    "print(\"Accurancy (uniform) =\", accuracy)"
   ]
  },
  {
   "cell_type": "markdown",
   "metadata": {},
   "source": [
    "*  weight method : Distance"
   ]
  },
  {
   "cell_type": "code",
   "execution_count": 44,
   "metadata": {},
   "outputs": [
    {
     "name": "stdout",
     "output_type": "stream",
     "text": [
      "['c1' 'c1' 'c1' 'c2' 'c2' 'c2' 'c1' 'c1' 'c2' 'c2' 'c2' 'c1' 'c1' 'c1'\n",
      " 'c2' 'c2' 'c2' 'c2' 'c2' 'c1' 'c1' 'c1' 'c1' 'c1' 'c1' 'c2' 'c1' 'c1'\n",
      " 'c2' 'c1' 'c1' 'c2' 'c2' 'c2' 'c2' 'c1' 'c1' 'c1' 'c1' 'c2']\n",
      "Accurancy (distance) = 0.925\n"
     ]
    }
   ],
   "source": [
    "knn3_Distance = KNeighborsClassifier(n_neighbors=3,metric='euclidean',weights='distance')\n",
    "knn3_Distance.fit(xTrain,yTrain)\n",
    "knn3_Distance.predict(data.iloc[200:,:2])\n",
    "\n",
    "knn3Pred_uni=knn3_Distance.predict(xTest)\n",
    "accuracy = accuracy_score(yTest,knn3Pred_uni)\n",
    "\n",
    "print(knn3Pred_uni)\n",
    "print(\"Accurancy (distance) =\", accuracy)"
   ]
  },
  {
   "cell_type": "markdown",
   "metadata": {},
   "source": [
    "results of part (e) gives more accuratye results"
   ]
  },
  {
   "cell_type": "markdown",
   "metadata": {},
   "source": [
    "************************************************************************************************************************************************************************************************************************************"
   ]
  }
 ],
 "metadata": {
  "kernelspec": {
   "display_name": "Python 3",
   "language": "python",
   "name": "python3"
  },
  "language_info": {
   "codemirror_mode": {
    "name": "ipython",
    "version": 3
   },
   "file_extension": ".py",
   "mimetype": "text/x-python",
   "name": "python",
   "nbconvert_exporter": "python",
   "pygments_lexer": "ipython3",
   "version": "3.12.4"
  }
 },
 "nbformat": 4,
 "nbformat_minor": 2
}
